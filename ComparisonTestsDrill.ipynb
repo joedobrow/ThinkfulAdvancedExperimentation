{
 "cells": [
  {
   "cell_type": "code",
   "execution_count": 72,
   "metadata": {},
   "outputs": [],
   "source": [
    "import pandas as pd\n",
    "import numpy as np\n",
    "import matplotlib.pyplot as plt\n",
    "\n",
    "from scipy import stats\n",
    "%matplotlib inline"
   ]
  },
  {
   "cell_type": "code",
   "execution_count": 73,
   "metadata": {},
   "outputs": [],
   "source": [
    "df = pd.read_csv('/Users/jdobrow/Desktop/ESSdata_Thinkful.txt')"
   ]
  },
  {
   "cell_type": "code",
   "execution_count": 74,
   "metadata": {},
   "outputs": [
    {
     "data": {
      "text/html": [
       "<div>\n",
       "<style scoped>\n",
       "    .dataframe tbody tr th:only-of-type {\n",
       "        vertical-align: middle;\n",
       "    }\n",
       "\n",
       "    .dataframe tbody tr th {\n",
       "        vertical-align: top;\n",
       "    }\n",
       "\n",
       "    .dataframe thead th {\n",
       "        text-align: right;\n",
       "    }\n",
       "</style>\n",
       "<table border=\"1\" class=\"dataframe\">\n",
       "  <thead>\n",
       "    <tr style=\"text-align: right;\">\n",
       "      <th></th>\n",
       "      <th>cntry</th>\n",
       "      <th>idno</th>\n",
       "      <th>year</th>\n",
       "      <th>tvtot</th>\n",
       "      <th>ppltrst</th>\n",
       "      <th>pplfair</th>\n",
       "      <th>pplhlp</th>\n",
       "      <th>happy</th>\n",
       "      <th>sclmeet</th>\n",
       "      <th>sclact</th>\n",
       "      <th>gndr</th>\n",
       "      <th>agea</th>\n",
       "      <th>partner</th>\n",
       "    </tr>\n",
       "  </thead>\n",
       "  <tbody>\n",
       "    <tr>\n",
       "      <th>0</th>\n",
       "      <td>CH</td>\n",
       "      <td>5.0</td>\n",
       "      <td>6</td>\n",
       "      <td>3.0</td>\n",
       "      <td>3.0</td>\n",
       "      <td>10.0</td>\n",
       "      <td>5.0</td>\n",
       "      <td>8.0</td>\n",
       "      <td>5.0</td>\n",
       "      <td>4.0</td>\n",
       "      <td>2.0</td>\n",
       "      <td>60.0</td>\n",
       "      <td>1.0</td>\n",
       "    </tr>\n",
       "    <tr>\n",
       "      <th>1</th>\n",
       "      <td>CH</td>\n",
       "      <td>25.0</td>\n",
       "      <td>6</td>\n",
       "      <td>6.0</td>\n",
       "      <td>5.0</td>\n",
       "      <td>7.0</td>\n",
       "      <td>5.0</td>\n",
       "      <td>9.0</td>\n",
       "      <td>3.0</td>\n",
       "      <td>2.0</td>\n",
       "      <td>2.0</td>\n",
       "      <td>59.0</td>\n",
       "      <td>1.0</td>\n",
       "    </tr>\n",
       "    <tr>\n",
       "      <th>2</th>\n",
       "      <td>CH</td>\n",
       "      <td>26.0</td>\n",
       "      <td>6</td>\n",
       "      <td>1.0</td>\n",
       "      <td>8.0</td>\n",
       "      <td>8.0</td>\n",
       "      <td>8.0</td>\n",
       "      <td>7.0</td>\n",
       "      <td>6.0</td>\n",
       "      <td>3.0</td>\n",
       "      <td>1.0</td>\n",
       "      <td>24.0</td>\n",
       "      <td>2.0</td>\n",
       "    </tr>\n",
       "    <tr>\n",
       "      <th>3</th>\n",
       "      <td>CH</td>\n",
       "      <td>28.0</td>\n",
       "      <td>6</td>\n",
       "      <td>4.0</td>\n",
       "      <td>6.0</td>\n",
       "      <td>6.0</td>\n",
       "      <td>7.0</td>\n",
       "      <td>10.0</td>\n",
       "      <td>6.0</td>\n",
       "      <td>2.0</td>\n",
       "      <td>2.0</td>\n",
       "      <td>64.0</td>\n",
       "      <td>1.0</td>\n",
       "    </tr>\n",
       "    <tr>\n",
       "      <th>4</th>\n",
       "      <td>CH</td>\n",
       "      <td>29.0</td>\n",
       "      <td>6</td>\n",
       "      <td>5.0</td>\n",
       "      <td>6.0</td>\n",
       "      <td>7.0</td>\n",
       "      <td>5.0</td>\n",
       "      <td>8.0</td>\n",
       "      <td>7.0</td>\n",
       "      <td>2.0</td>\n",
       "      <td>2.0</td>\n",
       "      <td>55.0</td>\n",
       "      <td>1.0</td>\n",
       "    </tr>\n",
       "  </tbody>\n",
       "</table>\n",
       "</div>"
      ],
      "text/plain": [
       "  cntry  idno  year  tvtot  ppltrst  pplfair  pplhlp  happy  sclmeet  sclact  \\\n",
       "0    CH   5.0     6    3.0      3.0     10.0     5.0    8.0      5.0     4.0   \n",
       "1    CH  25.0     6    6.0      5.0      7.0     5.0    9.0      3.0     2.0   \n",
       "2    CH  26.0     6    1.0      8.0      8.0     8.0    7.0      6.0     3.0   \n",
       "3    CH  28.0     6    4.0      6.0      6.0     7.0   10.0      6.0     2.0   \n",
       "4    CH  29.0     6    5.0      6.0      7.0     5.0    8.0      7.0     2.0   \n",
       "\n",
       "   gndr  agea  partner  \n",
       "0   2.0  60.0      1.0  \n",
       "1   2.0  59.0      1.0  \n",
       "2   1.0  24.0      2.0  \n",
       "3   2.0  64.0      1.0  \n",
       "4   2.0  55.0      1.0  "
      ]
     },
     "execution_count": 74,
     "metadata": {},
     "output_type": "execute_result"
    }
   ],
   "source": [
    "df.head()"
   ]
  },
  {
   "cell_type": "code",
   "execution_count": 75,
   "metadata": {},
   "outputs": [],
   "source": [
    "df = df.fillna(method='ffill')"
   ]
  },
  {
   "cell_type": "code",
   "execution_count": 76,
   "metadata": {},
   "outputs": [],
   "source": [
    "first_df = df[df.year == 6]\n",
    "second_df = df[df.year == 7]"
   ]
  },
  {
   "cell_type": "code",
   "execution_count": 77,
   "metadata": {},
   "outputs": [
    {
     "data": {
      "image/png": "[encoded data removed]",
      "text/plain": [
       "<Figure size 648x288 with 2 Axes>"
      ]
     },
     "metadata": {
      "needs_background": "light"
     },
     "output_type": "display_data"
    },
    {
     "name": "stdout",
     "output_type": "stream",
     "text": [
      "Ttest_relResult(statistic=0.0957107950847059, pvalue=0.923754731138101)\n"
     ]
    }
   ],
   "source": [
    "# 1. Trust\n",
    "f, axes = plt.subplots(1, 2, figsize=(9,4))\n",
    "axes[0].hist(first_df.ppltrst)\n",
    "axes[1].hist(second_df.ppltrst)\n",
    "plt.show()\n",
    "print(stats.ttest_rel(first_df.ppltrst, second_df.ppltrst, nan_policy='omit'))\n",
    "# Looks like we can NOT conclusively say that there was a change in the amount of trust people had\n",
    "# from 2012 to 2014"
   ]
  },
  {
   "cell_type": "code",
   "execution_count": 78,
   "metadata": {},
   "outputs": [
    {
     "data": {
      "image/png": "[encoded data removed]",
      "text/plain": [
       "<Figure size 648x288 with 2 Axes>"
      ]
     },
     "metadata": {
      "needs_background": "light"
     },
     "output_type": "display_data"
    },
    {
     "name": "stdout",
     "output_type": "stream",
     "text": [
      "WilcoxonResult(statistic=3327591.5, pvalue=0.8817689135415069)\n"
     ]
    }
   ],
   "source": [
    "# 2. Happy. This one does not look normal at all.\n",
    "f, axes = plt.subplots(1, 2, figsize=(9,4))\n",
    "axes[0].hist(first_df.happy)\n",
    "axes[1].hist(second_df.happy)\n",
    "plt.show()\n",
    "print(stats.wilcoxon(first_df.ppltrst, second_df.ppltrst))\n",
    "# Not significant result again."
   ]
  },
  {
   "cell_type": "code",
   "execution_count": 79,
   "metadata": {},
   "outputs": [
    {
     "data": {
      "image/png": "[encoded data removed]",
      "text/plain": [
       "<Figure size 648x288 with 2 Axes>"
      ]
     },
     "metadata": {
      "needs_background": "light"
     },
     "output_type": "display_data"
    },
    {
     "name": "stdout",
     "output_type": "stream",
     "text": [
      "MannwhitneyuResult(statistic=2279328.0, pvalue=0.23796364318747015)\n"
     ]
    }
   ],
   "source": [
    "# 3. TV Time between men and women. Not normally distributed and independent\n",
    "f, axes = plt.subplots(1, 2, figsize=(9,4))\n",
    "axes[0].hist(first_df.tvtot[first_df.gndr == 1]) # Male\n",
    "axes[1].hist(first_df.tvtot[first_df.gndr == 2]) # Female\n",
    "plt.show()\n",
    "print(stats.mannwhitneyu(first_df.tvtot[first_df.gndr == 1], first_df.tvtot[first_df.gndr == 2]))\n",
    "# No significant Difference"
   ]
  },
  {
   "cell_type": "code",
   "execution_count": 80,
   "metadata": {},
   "outputs": [
    {
     "data": {
      "image/png": "[encoded data removed]",
      "text/plain": [
       "<Figure size 648x288 with 2 Axes>"
      ]
     },
     "metadata": {
      "needs_background": "light"
     },
     "output_type": "display_data"
    },
    {
     "name": "stdout",
     "output_type": "stream",
     "text": [
      "Ttest_indResult(statistic=3.3401680519075074, pvalue=0.0008444215602503932)\n",
      "Lives with Partner Mean:  6.079880552444942\n",
      "No Partner Mean:  5.855377008652658\n"
     ]
    }
   ],
   "source": [
    "# 4. Believe people were fair\n",
    "f, axes = plt.subplots(1, 2, figsize=(9,4))\n",
    "axes[0].hist(first_df.pplfair[first_df.partner == 1]) # Yes Partner\n",
    "axes[1].hist(first_df.pplfair[first_df.partner == 2]) # No Partner\n",
    "plt.show()\n",
    "print(stats.ttest_ind(first_df.pplfair[first_df.partner == 1], first_df.pplfair[first_df.partner == 2], nan_policy='omit'))\n",
    "print('Lives with Partner Mean: ', np.mean(first_df.pplfair[first_df.partner == 1]))\n",
    "print('No Partner Mean: ', np.mean(first_df.pplfair[first_df.partner == 2]))\n",
    "# People with partners believe that people are fair"
   ]
  },
  {
   "cell_type": "code",
   "execution_count": 82,
   "metadata": {},
   "outputs": [
    {
     "data": {
      "image/png": "[encoded data removed]",
      "text/plain": [
       "<Figure size 792x288 with 3 Axes>"
      ]
     },
     "metadata": {
      "needs_background": "light"
     },
     "output_type": "display_data"
    },
    {
     "name": "stdout",
     "output_type": "stream",
     "text": [
      "F_onewayResult(statistic=7.868880855006757, pvalue=0.0003907118132093085)\n",
      "Spain Mean:  5.2572135201978565\n",
      "Switzerland Mean:  5.161707632600259\n",
      "Sweden Mean:  5.426211453744493\n"
     ]
    }
   ],
   "source": [
    "# 5. compare counries by social activity\n",
    "f, axes = plt.subplots(1, 3, figsize=(11,4))\n",
    "axes[0].hist(second_df.sclmeet[second_df.cntry == 'ES']) # Spain\n",
    "axes[1].hist(second_df.sclmeet[second_df.cntry == 'CH']) # Switzerland\n",
    "axes[2].hist(second_df.sclmeet[second_df.cntry == 'SE'])# Sweden\n",
    "plt.show()\n",
    "print(stats.f_oneway(second_df.sclmeet[second_df.cntry == 'ES'], second_df.sclmeet[second_df.cntry == 'CH'], second_df.sclmeet[second_df.cntry == 'SE']))\n",
    "print('Spain Mean: ', np.mean(second_df.sclmeet[second_df.cntry == 'ES']))\n",
    "print('Switzerland Mean: ', np.mean(second_df.sclmeet[second_df.cntry == 'CH']))\n",
    "print('Sweden Mean: ', np.mean(second_df.sclmeet[second_df.cntry == 'SE']))\n",
    "# Looks to be normal-ish, going to try ANOVA"
   ]
  },
  {
   "cell_type": "code",
   "execution_count": 83,
   "metadata": {},
   "outputs": [
    {
     "data": {
      "image/png": "[encoded data removed]",
      "text/plain": [
       "<Figure size 792x288 with 3 Axes>"
      ]
     },
     "metadata": {
      "needs_background": "light"
     },
     "output_type": "display_data"
    },
    {
     "name": "stdout",
     "output_type": "stream",
     "text": [
      "F_onewayResult(statistic=22.728138353978874, pvalue=1.607279381005182e-10)\n",
      "Spain Mean:  2.6166529266281944\n",
      "Switzerland Mean:  2.7826649417852525\n",
      "Sweden Mean:  2.881057268722467\n"
     ]
    }
   ],
   "source": [
    "# 5. compare counries by social activity\n",
    "f, axes = plt.subplots(1, 3, figsize=(11,4))\n",
    "axes[0].hist(second_df.sclact[second_df.cntry == 'ES']) # Spain\n",
    "axes[1].hist(second_df.sclact[second_df.cntry == 'CH']) # Switzerland\n",
    "axes[2].hist(second_df.sclact[second_df.cntry == 'SE'])# Sweden\n",
    "plt.show()\n",
    "print(stats.f_oneway(second_df.sclact[second_df.cntry == 'ES'], second_df.sclact[second_df.cntry == 'CH'], second_df.sclact[second_df.cntry == 'SE']))\n",
    "print('Spain Mean: ', np.mean(second_df.sclact[second_df.cntry == 'ES']))\n",
    "print('Switzerland Mean: ', np.mean(second_df.sclact[second_df.cntry == 'CH']))\n",
    "print('Sweden Mean: ', np.mean(second_df.sclact[second_df.cntry == 'SE']))\n",
    "# Looks to be normal-ish, going to try ANOVA"
   ]
  },
  {
   "cell_type": "code",
   "execution_count": null,
   "metadata": {},
   "outputs": [],
   "source": []
  }
 ],
 "metadata": {
  "kernelspec": {
   "display_name": "Python 3",
   "language": "python",
   "name": "python3"
  },
  "language_info": {
   "codemirror_mode": {
    "name": "ipython",
    "version": 3
   },
   "file_extension": ".py",
   "mimetype": "text/x-python",
   "name": "python",
   "nbconvert_exporter": "python",
   "pygments_lexer": "ipython3",
   "version": "3.7.3"
  }
 },
 "nbformat": 4,
 "nbformat_minor": 2
}
